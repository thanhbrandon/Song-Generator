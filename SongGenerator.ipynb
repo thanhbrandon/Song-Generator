{
  "nbformat": 4,
  "nbformat_minor": 0,
  "metadata": {
    "colab": {
      "name": "SongGenerator.ipynb",
      "provenance": [],
      "collapsed_sections": [],
      "mount_file_id": "1XCRAa39B_wxjsgMQ3jlFZz3_PeiSFRUQ",
      "authorship_tag": "ABX9TyPzU+YmN8onsZ70D08S3ODR",
      "include_colab_link": true
    },
    "kernelspec": {
      "name": "python3",
      "display_name": "Python 3"
    },
    "language_info": {
      "name": "python"
    }
  },
  "cells": [
    {
      "cell_type": "markdown",
      "metadata": {
        "id": "view-in-github",
        "colab_type": "text"
      },
      "source": [
        "<a href=\"https://colab.research.google.com/github/thanhbrandon/Song-Generator/blob/main/SongGenerator.ipynb\" target=\"_parent\"><img src=\"https://colab.research.google.com/assets/colab-badge.svg\" alt=\"Open In Colab\"/></a>"
      ]
    },
    {
      "cell_type": "markdown",
      "source": [
        "Rush Song Generator\n",
        "by Thanh Tran\n",
        "\n",
        "Hello, this purpose of this program is generate Rush Songs using previous Rush Songs."
      ],
      "metadata": {
        "id": "vOytcd7sdbTg"
      }
    },
    {
      "cell_type": "code",
      "execution_count": 7,
      "metadata": {
        "id": "q9akRYQhdYNQ"
      },
      "outputs": [],
      "source": [
        "import tensorflow as tf\n",
        "from tensorflow import keras\n",
        "from tensorflow.keras.preprocessing.text import Tokenizer\n",
        "from tensorflow.keras.preprocessing.sequence import pad_sequences"
      ]
    },
    {
      "cell_type": "code",
      "source": [
        "verses = [] # Create Verses String List\n",
        "\n",
        "# Adds verses from file into list\n",
        "with open('/content/drive/MyDrive/Rush Album Lyrics/Permanent Waves/Freewill.txt',encoding='cp1252') as f:\n",
        "    for line in f:\n",
        "      verses.append(line)\n",
        "\n",
        "print(verses[0])"
      ],
      "metadata": {
        "colab": {
          "base_uri": "https://localhost:8080/"
        },
        "id": "nDbbwhZgeB7o",
        "outputId": "663da7d5-780e-48b7-e96f-a72aedcb4812"
      },
      "execution_count": 8,
      "outputs": [
        {
          "output_type": "stream",
          "name": "stdout",
          "text": [
            "There are those who think that life\n",
            "\n"
          ]
        }
      ]
    },
    {
      "cell_type": "code",
      "source": [
        "tokenizer = Tokenizer(num_words = 100, oov_token= \"<OOV>\") # Creates Tokenizer that creates numerical values for the top 100 words\n",
        "tokenizer.fit_on_texts(verses) # Converts words into numerical values\n",
        "word_index = tokenizer.word_index\n",
        "\n",
        "sequences = tokenizer.texts_to_sequences(verses) # Creates sequences using verses and tokenizer\n",
        "\n",
        "padded = pad_sequences(sequences, padding='post') # Addes padding to sequences to make lengths consistent \n",
        "\n",
        "print(word_index)\n",
        "print(sequences)\n",
        "print(padded)"
      ],
      "metadata": {
        "colab": {
          "base_uri": "https://localhost:8080/"
        },
        "id": "qoPaFBXhhQ8u",
        "outputId": "c60f6f3f-f0dd-4d0d-96a1-38f0abd6ca39"
      },
      "execution_count": 10,
      "outputs": [
        {
          "output_type": "stream",
          "name": "stdout",
          "text": [
            "{'<OOV>': 1, 'a': 2, 'of': 3, 'you': 4, 'choose': 5, 'in': 6, 'to': 7, 'the': 8, 'are': 9, 'that': 10, 'can': 11, 'will': 12, 'there': 13, 'those': 14, 'who': 15, 'think': 16, 'with': 17, 'dance': 18, 'we': 19, 'on': 20, 'and': 21, 'i': 22, 'that’s': 23, 'they': 24, 'were': 25, 'life': 26, 'has': 27, 'nothing': 28, 'left': 29, 'chance': 30, 'host': 31, 'holy': 32, 'horrors': 33, 'direct': 34, 'our': 35, 'aimless': 36, 'planet': 37, 'playthings': 38, 'strings': 39, 'powers': 40, 'cannot': 41, 'perceive': 42, '“the': 43, 'stars': 44, 'aren’t': 45, 'aligned': 46, '–': 47, 'or': 48, 'gods': 49, 'malign”': 50, 'blame': 51, 'is': 52, 'better': 53, 'give': 54, 'than': 55, 'receive': 56, 'ready': 57, 'guide': 58, 'some': 59, 'celestial': 60, 'voice': 61, 'if': 62, 'not': 63, 'decide': 64, 'still': 65, 'have': 66, 'made': 67, 'choice': 68, 'from': 69, 'phantom': 70, 'fears': 71, 'kindness': 72, 'kill': 73, 'path': 74, 'clear': 75, 'free': 76, 'dealt': 77, 'losing': 78, 'hand': 79, 'cards': 80, 'stacked': 81, 'against': 82, 'them': 83, 'weren’t': 84, 'born': 85, 'lotus': 86, 'land': 87, 'all': 88, 'pre': 89, 'ordained': 90, 'prisoner': 91, 'chains': 92, 'victim': 93, 'venomous': 94, 'fate': 95, 'kicked': 96, 'face': 97, 'can’t': 98, 'pray': 99, 'for': 100, 'place': 101, 'heaven’s': 102, 'unearthly': 103, 'estate': 104, 'each': 105, 'us': 106, 'cell': 107, 'awareness': 108, 'imperfect': 109, 'incomplete': 110, 'genetic': 111, 'blends': 112, 'uncertain': 113, 'ends': 114, 'fortune': 115, 'hunt': 116, 'far': 117, 'too': 118, 'fleet…': 119}\n",
            "[[13, 9, 14, 15, 16, 10, 26], [27, 28, 29, 7, 30], [17, 2, 31, 3, 32, 33], [7, 34, 35, 36, 18], [], [2, 37, 3, 38], [19, 18, 20, 8, 39], [3, 40, 19, 41, 42], [43, 44, 45, 46, 47], [48, 8, 49, 9, 50], [51, 52, 53, 7, 54, 55, 56], [], [4, 11, 5, 2, 57, 58], [6, 59, 60, 61], [62, 4, 5, 63, 7, 64], [4, 65, 66, 67, 2, 68], [4, 11, 5, 69, 70, 71], [21, 72, 10, 11, 73], [22, 12, 5, 2, 74, 23, 75], [22, 12, 5, 76, 12], [], [13, 9, 14, 15, 16, 10], [24, 25, 77, 2, 78, 79], [8, 80, 25, 81, 82, 83], [24, 84, 85, 6, 86, 87], [], [88, 89, 90], [2, 91, 6, 92], [2, 93, 3, 94, 95], [96, 6, 8, 97], [4, 98, 99, 1, 2, 1], [6, 1, 1, 1], [], [1, 3, 1], [2, 1, 3, 1], [1, 21, 1], [1, 1], [17, 1, 1], [20, 2, 1, 1], [23, 1, 1, 1]]\n",
            "[[13  9 14 15 16 10 26]\n",
            " [27 28 29  7 30  0  0]\n",
            " [17  2 31  3 32 33  0]\n",
            " [ 7 34 35 36 18  0  0]\n",
            " [ 0  0  0  0  0  0  0]\n",
            " [ 2 37  3 38  0  0  0]\n",
            " [19 18 20  8 39  0  0]\n",
            " [ 3 40 19 41 42  0  0]\n",
            " [43 44 45 46 47  0  0]\n",
            " [48  8 49  9 50  0  0]\n",
            " [51 52 53  7 54 55 56]\n",
            " [ 0  0  0  0  0  0  0]\n",
            " [ 4 11  5  2 57 58  0]\n",
            " [ 6 59 60 61  0  0  0]\n",
            " [62  4  5 63  7 64  0]\n",
            " [ 4 65 66 67  2 68  0]\n",
            " [ 4 11  5 69 70 71  0]\n",
            " [21 72 10 11 73  0  0]\n",
            " [22 12  5  2 74 23 75]\n",
            " [22 12  5 76 12  0  0]\n",
            " [ 0  0  0  0  0  0  0]\n",
            " [13  9 14 15 16 10  0]\n",
            " [24 25 77  2 78 79  0]\n",
            " [ 8 80 25 81 82 83  0]\n",
            " [24 84 85  6 86 87  0]\n",
            " [ 0  0  0  0  0  0  0]\n",
            " [88 89 90  0  0  0  0]\n",
            " [ 2 91  6 92  0  0  0]\n",
            " [ 2 93  3 94 95  0  0]\n",
            " [96  6  8 97  0  0  0]\n",
            " [ 4 98 99  1  2  1  0]\n",
            " [ 6  1  1  1  0  0  0]\n",
            " [ 0  0  0  0  0  0  0]\n",
            " [ 1  3  1  0  0  0  0]\n",
            " [ 2  1  3  1  0  0  0]\n",
            " [ 1 21  1  0  0  0  0]\n",
            " [ 1  1  0  0  0  0  0]\n",
            " [17  1  1  0  0  0  0]\n",
            " [20  2  1  1  0  0  0]\n",
            " [23  1  1  1  0  0  0]]\n"
          ]
        }
      ]
    },
    {
      "cell_type": "code",
      "source": [
        ""
      ],
      "metadata": {
        "id": "1eAWN1tWTBRi"
      },
      "execution_count": null,
      "outputs": []
    }
  ]
}