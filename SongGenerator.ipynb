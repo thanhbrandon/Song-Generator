{
  "nbformat": 4,
  "nbformat_minor": 0,
  "metadata": {
    "colab": {
      "name": "SongGenerator.ipynb",
      "provenance": [],
      "collapsed_sections": [],
      "mount_file_id": "1XCRAa39B_wxjsgMQ3jlFZz3_PeiSFRUQ",
      "authorship_tag": "ABX9TyMMUfSFEaH05FxNqz0fKjOY",
      "include_colab_link": true
    },
    "kernelspec": {
      "name": "python3",
      "display_name": "Python 3"
    },
    "language_info": {
      "name": "python"
    }
  },
  "cells": [
    {
      "cell_type": "markdown",
      "metadata": {
        "id": "view-in-github",
        "colab_type": "text"
      },
      "source": [
        "<a href=\"https://colab.research.google.com/github/thanhbrandon/Song-Generator/blob/main/SongGenerator.ipynb\" target=\"_parent\"><img src=\"https://colab.research.google.com/assets/colab-badge.svg\" alt=\"Open In Colab\"/></a>"
      ]
    },
    {
      "cell_type": "markdown",
      "source": [
        "Rush Song Generator\n",
        "by Thanh Tran\n",
        "\n",
        "Hello, this purpose of this program is generate Rush Songs using previous Rush Songs."
      ],
      "metadata": {
        "id": "vOytcd7sdbTg"
      }
    },
    {
      "cell_type": "code",
      "execution_count": 1,
      "metadata": {
        "id": "q9akRYQhdYNQ"
      },
      "outputs": [],
      "source": [
        "import tensorflow as tf\n",
        "\n",
        "from tensorflow.keras.preprocessing.sequence import pad_sequences\n",
        "from tensorflow.keras.layers import Embedding, LSTM, Dense, Bidirectional\n",
        "from tensorflow.keras.preprocessing.text import Tokenizer\n",
        "from tensorflow.keras.models import Sequential\n",
        "from tensorflow.keras.optimizers import Adam\n",
        "import numpy as np "
      ]
    },
    {
      "cell_type": "code",
      "source": [
        "verses = [] # Create Verses String List\n",
        "\n",
        "#filePath = '/content/drive/MyDrive/Rush Album Lyrics/Permanent Waves/Freewill.txt' # Just Freewill\n",
        "filePath = '/content/drive/MyDrive/Rush Album Lyrics/All Lyrics.txt' # All lyrics\n",
        "with open(filePath,encoding='cp1252') as f:\n",
        "    for line in f:\n",
        "      #line = line + \"newline\"\n",
        "      verses.append(line)\n",
        "\n",
        "tokenizer = Tokenizer() # Creates Tokenizer \n",
        "tokenizer.fit_on_texts(verses) # Converts words into numerical values\n",
        "word_index = tokenizer.word_index\n",
        "total_words = len(word_index) + 1\n",
        "\n",
        "sequences = tokenizer.texts_to_sequences(verses) # Creates sequences using verses and tokenizer\n",
        "\n",
        "padded = pad_sequences(sequences, padding='post') # Addes padding to sequences to make lengths consistent \n",
        "\n",
        "print(word_index)\n",
        "print(sequences)\n",
        "print(padded)\n",
        "\n",
        "print(total_words)"
      ],
      "metadata": {
        "colab": {
          "base_uri": "https://localhost:8080/"
        },
        "id": "lbcTZRvV3KD5",
        "outputId": "868620cc-cf5d-4426-f4d7-52ed023d9365"
      },
      "execution_count": 2,
      "outputs": [
        {
          "output_type": "stream",
          "name": "stdout",
          "text": [
            "{'the': 1, 'and': 2, 'of': 3, 'to': 4, 'a': 5, 'in': 6, 'i': 7, 'they': 8, 'for': 9, 'we': 10, 'their': 11, 'you': 12, 'on': 13, 'are': 14, 'with': 15, 'will': 16, 'all': 17, 'our': 18, 'us': 19, 'as': 20, 'world': 21, 'can': 22, 'be': 23, 'that': 24, 'heart': 25, 'so': 26, 'your': 27, 'is': 28, 'not': 29, 'but': 30, 'my': 31, 'there': 32, '–': 33, 'just': 34, 'have': 35, 'were': 36, 'can’t': 37, 'each': 38, 'love': 39, 'time': 40, 'at': 41, 'still': 42, 'from': 43, 'eyes': 44, 'by': 45, 'it': 46, 'one': 47, 'some': 48, 'me': 49, 'when': 50, 'man': 51, 'he': 52, 'was': 53, 'who': 54, 'or': 55, 'light': 56, 'into': 57, '—': 58, 'bring': 59, 'life': 60, 'choose': 61, 'too': 62, 'no': 63, 'what': 64, 'things': 65, 'same': 66, 'truth': 67, 'through': 68, 'more': 69, 'way': 70, 'it’s': 71, 'cannot': 72, 'down': 73, 'other': 74, 'alone': 75, 'like': 76, 'him': 77, 'out': 78, 'within': 79, 'different': 80, 'see': 81, 'hearts': 82, 'tide': 83, 'these': 84, 'find': 85, 'closer': 86, 'had': 87, 'cygnus': 88, 'maples': 89, 'oaks': 90, 'song': 91, 'music': 92, 'open': 93, 'integrity': 94, 'think': 95, 'has': 96, 'stars': 97, 'gods': 98, 'if': 99, 'them': 100, 'battle': 101, 'fear': 102, 'grow': 103, 'come': 104, 'along': 105, 'wheels': 106, 'after': 107, 'passed': 108, 'cities': 109, 'wise': 110, 'his': 111, 'reality': 112, 'force': 113, 'her': 114, 'walk': 115, 'lost': 116, 'xanadu': 117, 'people': 118, '‘i': 119, 'day': 120, 'that’s': 121, 'magic': 122, 'invisible': 123, 'this': 124, 'endless': 125, 'those': 126, 'dance': 127, 'give': 128, 'made': 129, 'fears': 130, 'path': 131, 'free': 132, 'once': 133, 'yet': 134, 'between': 135, 'show': 136, 'full': 137, 'an': 138, 'know': 139, 'would': 140, 'mystery': 141, 'innocence': 142, 'go': 143, 'pools': 144, 'spiral': 145, 'wonder': 146, 'must': 147, 'view': 148, 'given': 149, 'state': 150, 'strong': 151, 'long': 152, 'let': 153, 'sacred': 154, 'wrong': 155, 'make': 156, 'because': 157, 'cold': 158, 'could': 159, 'up': 160, 'men': 161, 'course': 162, 'weary': 163, 'there’s': 164, 'winter': 165, 'caves': 166, 'ice': 167, 'honey': 168, 'dew': 169, 'milk': 170, 'tales': 171, 'immortal': 172, 'night': 173, 'felt': 174, 'only': 175, 'old': 176, 'divided': 177, 'bringer': 178, 'build': 179, 'fell': 180, 'silent': 181, 'dionysus': 182, 'mind': 183, 'hemispheres': 184, 'trouble': 185, 'they’re': 186, 'begin': 187, 'voice': 188, 'off': 189, 'road': 190, 'spirit': 191, 'happy': 192, 'bright': 193, 'timeless': 194, 'beyond': 195, 'making': 196, 'really': 197, 'illusion': 198, 'words': 199, 'nothing': 200, 'left': 201, 'aimless': 202, 'planet': 203, 'strings': 204, 'clear': 205, 'hand': 206, 'against': 207, 'chains': 208, 'fate': 209, 'face': 210, 'place': 211, 'awareness': 212, 'far': 213, 'clouds': 214, 'silence': 215, 'distant': 216, 'look': 217, 'skies': 218, 'read': 219, 'we’re': 220, 'another': 221, 'such': 222, 'together': 223, 'two': 224, 'sometimes': 225, 'well': 226, 'troubled': 227, 'sea': 228, 'away': 229, 'who’s': 230, 'slay': 231, 'call': 232, 'much': 233, 'confusion': 234, 'clue': 235, 'why': 236, 'part': 237, 'found': 238, 'did': 239, 'beat': 240, 'lived': 241, 'kind': 242, 'reflect': 243, 'upon': 244, 'own': 245, 'creatures': 246, 'array': 247, 'pattern': 248, 'grand': 249, 'complex': 250, 'lose': 251, 'sight': 252, 'causes': 253, 'effects': 254, 'ii': 255, 'space': 256, 'universe': 257, 'understand': 258, 'iii': 259, 'its': 260, 'surely': 261, 'art': 262, 'help': 263, 'most': 264, 'wave': 265, 'flow': 266, 'turn': 267, 'turned': 268, 'hatred': 269, 'lies': 270, 'withered': 271, 'cruel': 272, 'tormented': 273, 'scheming': 274, 'demons': 275, 'dressed': 276, 'kingly': 277, 'guise': 278, 'beating': 279, 'multitude': 280, 'scoffing': 281, 'ancient': 282, 'minds': 283, 'feel': 284, 'right': 285, 'start': 286, 'city': 287, 'need': 288, 'insane': 289, 'manic': 290, 'depressive': 291, 'walks': 292, 'rain': 293, 'cinderella': 294, 'awakened': 295, 'hungry': 296, 'held': 297, 'fight': 298, 'high': 299, 'new': 300, 'black': 301, 'hole': 302, 'x': 303, '1': 304, 'cross': 305, 'final': 306, 'nevermore': 307, 'grace': 308, 'fearsome': 309, 'set': 310, 'sailed': 311, 'across': 312, 'ship': 313, 'every': 314, 'torn': 315, 'storm': 316, 'darkness': 317, 'vain': 318, 'search': 319, 'river': 320, 'alph': 321, 'drink': 322, 'heard': 323, 'frozen': 324, 'searching': 325, 'pleasure': 326, 'dome': 327, 'decreed': 328, 'kubla': 329, 'khan': 330, 'taste': 331, 'last': 332, 'paradise': 333, 'years': 334, 'sky': 335, 'prison': 336, 'mad': 337, 'shall': 338, 'plus': 339, 'change': 340, 'now': 341, 'understanding': 342, 'struggle': 343, 'reason': 344, 'apollo': 345, 'wisdom': 346, 'food': 347, 'knew': 348, 'feelings': 349, 'brothers': 350, 'fought': 351, 'balance': 352, 'olympus': 353, 'scream': 354, 'then': 355, 'sphere': 356, 'forest': 357, 'trees': 358, 'equal': 359, 'friendly': 360, 'companion': 361, 'unobtrusive': 362, 'plays': 363, 'elusive': 364, 'makes': 365, 'morning': 366, 'mood': 367, 'hit': 368, 'fingers': 369, 'ever': 370, 'lingers': 371, 'undemanding': 372, 'contact': 373, 'solitude': 374, 'airwaves': 375, 'crackle': 376, 'antennae': 377, 'bristle': 378, 'energy': 379, 'emotional': 380, 'feedback': 381, 'wavelength': 382, 'bearing': 383, 'gift': 384, 'price': 385, 'almost': 386, 'free…': 387, 'machinery': 388, 'modern': 389, 'hearted': 390, 'coldly': 391, 'charted': 392, 'question': 393, 'honesty': 394, 'likes': 395, 'believe': 396, 'freedom': 397, 'glittering': 398, 'prizes': 399, 'compromises': 400, 'shatter': 401, '“for': 402, 'profits': 403, 'written': 404, 'studio': 405, 'wall': 406, 'concert': 407, 'hall': 408, 'echoes': 409, 'sounds…': 410, 'salesmen': 411, '”': 412, 'chance': 413, 'host': 414, 'holy': 415, 'horrors': 416, 'direct': 417, 'playthings': 418, 'powers': 419, 'perceive': 420, '“the': 421, 'aren’t': 422, 'aligned': 423, 'malign”': 424, 'blame': 425, 'better': 426, 'than': 427, 'receive': 428, 'ready': 429, 'guide': 430, 'celestial': 431, 'decide': 432, 'choice': 433, 'phantom': 434, 'kindness': 435, 'kill': 436, 'dealt': 437, 'losing': 438, 'cards': 439, 'stacked': 440, 'weren’t': 441, 'born': 442, 'lotus': 443, 'land': 444, 'pre': 445, 'ordained': 446, 'prisoner': 447, 'victim': 448, 'venomous': 449, 'kicked': 450, 'pray': 451, 'heaven’s': 452, 'unearthly': 453, 'estate': 454, 'cell': 455, 'imperfect': 456, 'incomplete': 457, 'genetic': 458, 'blends': 459, 'uncertain': 460, 'ends': 461, 'fortune': 462, 'hunt': 463, 'fleet…': 464, 'prepare': 465, 'dark': 466, 'brooding': 467, 'bruised': 468, 'sullen': 469, 'stormclouds': 470, 'obscured': 471, 'looming': 472, 'low': 473, 'ominous': 474, 'twilight': 475, 'premature': 476, 'thunderheads': 477, 'rumbling': 478, 'overture': 479, 'parted': 480, 'streams': 481, 'unbroken': 482, 'beams': 483, 'follow': 484, 'men’s': 485, 'shifting': 486, 'shafts': 487, 'shining': 488, 'weave': 489, 'fabric': 490, 'dreams…': 491, 'secrets': 492, 'one’s': 493, 'novel': 494, 'else': 495, 'even': 496, 'joined': 497, 'bonds': 498, 'linked': 499, 'slender': 500, 'threads': 501, 'planets': 502, 'drifting': 503, 'orbits': 504, 'brief': 505, 'eclipse': 506, 'apart': 507, 'passing': 508, 'ships': 509, 'recognize': 510, 'differences': 511, 'realize': 512, 'spaces': 513, 'leave': 514, 'room': 515, 'strangers': 516, 'sliding': 517, 'panels': 518, 'acting': 519, 'rehearsed': 520, 'routines': 521, 'playing': 522, 'hard': 523, 'islands': 524, 'building': 525, 'hopeful': 526, 'bridges': 527, 'burned': 528, 'swept': 529, 'always': 530, 'dragon': 531, 'watch': 532, 'fall': 533, 'arrows': 534, 'pointed': 535, 'giant': 536, 'killers': 537, 'fuss': 538, 'bother': 539, 'contradiction': 540, 'peel': 541, 'here’s': 542, 'real': 543, 'motivation': 544, 'both': 545, 'we’ve': 546, 'explain': 547, 'happened': 548, 'style': 549, 'naivetã©': 550, 'longer': 551, 'child': 552, 'times': 553, 'agree': 554, 'ebbing': 555, 'retreats': 556, 'rocky': 557, 'shoreline': 558, 'leaves': 559, 'trail': 560, 'tidal': 561, 'short': 562, 'galaxy': 563, 'microcosmic': 564, 'complete': 565, 'society': 566, 'simple': 567, 'mirror': 568, 'busy': 569, 'little': 570, 'chasing': 571, 'destinies': 572, 'living': 573, 'soon': 574, 'forget': 575, 'about': 576, 'sea…': 577, 'hyperspace': 578, 'quantum': 579, 'leap': 580, 'forward': 581, 'learned': 582, 'expand': 583, 'mess': 584, 'triumphant': 585, 'tragic': 586, 'mechanized': 587, 'computerized': 588, 'clinic': 589, 'superior': 590, 'cynics': 591, 'synthetic': 592, 'band': 593, 'image': 594, 'fashioned': 595, 'don’t': 596, 'permanent': 597, 'waves': 598, 'science': 599, 'nature': 600, 'also': 601, 'tamed': 602, 'towards': 603, 'preservation': 604, 'serve': 605, 'expression': 606, 'market': 607, 'campaigns': 608, 'capture': 609, 'imaginations': 610, 'endangered': 611, 'species': 612, 'honest': 613, 'survive': 614, 'annihilation': 615, 'forming': 616, 'sensitive': 617, 'bury': 618, 'does': 619, 'recede': 620, 'leaving': 621, 'was…': 622, 'pages': 623, 'history': 624, 'days': 625, 'ago': 626, 'sadness': 627, 'seeds': 628, 'gaze': 629, 'castles': 630, 'distance': 631, 'cast': 632, 'least': 633, 'resistance': 634, 'hypocrites': 635, 'slandering': 636, 'halls': 637, 'nobles': 638, 'showering': 639, 'bitterness': 640, 'youth': 641, 'learn': 642, 'what’s': 643, 'raise': 644, 'lead': 645, 'modest': 646, 'mandrake': 647, 'travelled': 648, 'rich': 649, 'discover': 650, 'use': 651, 'newly': 652, 'wealth': 653, 'human': 654, 'goodness': 655, 'moral': 656, 'called': 657, 'delusions': 658, 'grandeur': 659, 'visions': 660, 'splendour': 661, 'wide': 662, 'undefended': 663, 'untarnished': 664, 'doing': 665, 'means': 666, 'hang': 667, 'plans': 668, 'try': 669, 'might': 670, 'steal': 671, 'dreams': 672, 'betrayal': 673, 'do': 674, 'riches': 675, 'challenge': 676, 'purposeful': 677, 'motion': 678, 'tried': 679, 'couldn’t': 680, 'hold': 681, 'places': 682, 'ones': 683, 'mould': 684, 'blacksmith': 685, 'artist': 686, 'forge': 687, 'creativity': 688, 'philosophers': 689, 'ploughmen': 690, 'sow': 691, 'mentality': 692, 'captain': 693, 'draw': 694, 'chart': 695, 'sailing': 696, 'destiny': 697, 'prologue': 698, 'constellation': 699, 'lurks': 700, 'mysterious': 701, 'six': 702, 'northern': 703, 'mourning': 704, 'sister’s': 705, 'loss': 706, 'flash': 707, 'glory': 708, 'night…': 709, 'telescopic': 710, 'eye': 711, 'infinity': 712, 'star': 713, 'die': 714, 'dare': 715, 'swallowed': 716, 'void': 717, 'destroyed': 718, 'something': 719, 'atomized': 720, 'core': 721, 'astral': 722, 'door': 723, 'soar…': 724, '2': 725, 'east': 726, 'lyra': 727, 'northwest': 728, 'pegasus': 729, 'flew': 730, 'deneb': 731, 'milky': 732, '‘rocinante’': 733, 'wheeling': 734, 'galaxies': 735, 'headed': 736, 'headlong': 737, 'ray': 738, 'siren': 739, 'resist': 740, 'nearer': 741, 'deadly': 742, 'goal': 743, 'until': 744, 'gains': 745, 'control…': 746, '3': 747, 'spinning': 748, 'whirling': 749, 'descending': 750, 'unending': 751, 'sound': 752, 'fury': 753, 'drowns': 754, 'nerve': 755, 'apart…': 756, 'continued…': 757, 'dragons': 758, 'mighty': 759, 'pen': 760, 'sword': 761, 'toward': 762, 'around': 763, 'madness': 764, 'safe': 765, 'port': 766, 'homeward': 767, 'stop': 768, 'awhile': 769, 'becomes': 770, 'barren': 771, 'beacon': 772, 'pair': 773, 'order': 774, 'shown': 775, 'proof': 776, '“to': 777, 'seek': 778, 'break': 779, 'fast': 780, 'paradise…”': 781, 'whispered': 782, 'immortality': 783, 'deepest': 784, 'book': 785, 'took': 786, 'scaled': 787, 'mountain': 788, 'tops': 789, 'eastern': 790, 'lands': 791, 'unknown': 792, 'stand': 793, 'anew': 794, 'fruits': 795, 'oh': 796, 'dine': 797, 'thousand': 798, 'gone': 799, 'stopped': 800, 'everlasting': 801, 'waiting': 802, 'end': 803, 'praying': 804, 'bitter': 805, 'triumph': 806, 'return': 807, 'escape': 808, 'dined': 809, 'drunk': 810, 'boy': 811, 'home': 812, 'rooftops': 813, 'window': 814, 'gloom': 815, 'empty': 816, 'rooms': 817, 'rainy': 818, 'afternoons': 819, 'disillusioned': 820, 'gave': 821, 'confidence': 822, 'take': 823, 'chances': 824, 'laughed': 825, 'tricked': 826, 'circumstances': 827, 'ã§a': 828, 'c’est': 829, 'la': 830, 'mãªme': 831, 'chose': 832, 'stay': 833, 'i’ve': 834, 'gained': 835, 'dreamed': 836, 'become': 837, 'walls': 838, 'surround': 839, 'contain': 840, 'ought': 841, 'prelude': 842, 'young': 843, 'ancients': 844, 'first': 845, 'began': 846, 'sought': 847, 'rule': 848, 'battled': 849, 'ages': 850, 'neither': 851, 'yield': 852, 'soul': 853, 'battlefield…': 854, 'wit': 855, 'fair': 856, 'precious': 857, 'gifts': 858, 'compare': 859, 'aware’': 860, 'shelter': 861, 'fire': 862, 'keep': 863, 'warm': 864, 'live': 865, 'comfort': 866, 'transform’': 867, 'delighted': 868, 'coming': 869, 'forth': 870, 'claim': 871, 'prize': 872, 'ran': 873, 'converse': 874, 'among': 875, 'streets': 876, 'urge': 877, 'fine': 878, 'seemed': 879, 'consulted': 880, 'bridge': 881, 'death': 882, 'crossed': 883, 'quest': 884, 'lost…': 885, 'solace': 886, 'heart’s': 887, 'eternal': 888, 'trust': 889, 'steer': 890, 'right’': 891, 'laughter': 892, 'joy': 893, 'tears': 894, 'soothe': 895, 'primal': 896, 'throw': 897, 'disappears’': 898, 'abandoned': 899, 'forests': 900, 'echoed': 901, 'danced': 902, 'wine': 903, 'aplenty': 904, 'slept': 905, 'beneath': 906, 'contented': 907, 'watched': 908, 'afar': 909, 'caught': 910, 'unprepared': 911, 'bringing': 912, 'wolves': 913, 'starvation': 914, 'despaired…': 915, 'iv': 916, 'armageddon': 917, 'collided': 918, 'unguided': 919, 'many': 920, 'cloud': 921, 'doubts': 922, 'asunder': 923, 'hollow': 924, 'themselves': 925, 'followed': 926, 'unclear': 927, 'appear': 928, 'spirits': 929, 'blinded': 930, 'brought': 931, 'rocinante': 932, 'flight': 933, 'cygnus’': 934, 'spiralled': 935, 'v': 936, 'memory': 937, 'shape': 938, 'form': 939, 'disembodied': 940, 'am': 941, 'dead': 942, 'unborn': 943, 'told': 944, 'immortals': 945, 'marble': 946, 'white': 947, 'purest': 948, 'gold': 949, 'rage': 950, 'thunderbolts': 951, 'move': 952, 'hide': 953, 'inside': 954, 'chaos': 955, 'ceased': 956, 'stillness': 957, 'sudden': 958, 'peace': 959, 'warriors': 960, 'cry': 961, 'stayed': 962, 'mystified': 963, 'astonished': 964, 'thought': 965, 'story': 966, 'further': 967, 'wondered': 968, 'sad': 969, 'looking': 970, 'doubt': 971, 'surface': 972, 'splintered': 973, 'sorry': 974, 'sat': 975, 'while': 976, '‘we': 977, 'god': 978, 'be’': 979, 'vi': 980, 'dream': 981, 'goals': 982, 'run': 983, 'pursue': 984, 'aim': 985, 'lighted': 986, 'shine': 987, 'sensibility': 988, 'armed': 989, 'sense': 990, 'liberty': 991, 'united': 992, 'single': 993, 'perfect': 994, 'unrest': 995, 'want': 996, 'sunlight': 997, 'ignore': 998, 'pleas': 999, 'quite': 1000, 'convinced': 1001, 'say': 1002, 'lofty': 1003, 'grab': 1004, 'shade': 1005, 'fled': 1006, '‘oppression': 1007, '’': 1008, 'shake': 1009, 'heads': 1010, 'formed': 1011, 'union': 1012, 'demanded': 1013, 'rights': 1014, '‘the': 1015, 'greedy': 1016, 'light’': 1017, 'oak': 1018, 'oppression': 1019, 'noble': 1020, 'law': 1021, 'kept': 1022, 'hatchet': 1023, 'axe': 1024, 'saw…': 1025}\n",
            "[[187, 1, 120], [15, 5, 360, 188], [5, 361, 362], [363, 1, 91, 121, 26, 364], [2, 1, 122, 92, 365, 27, 366, 367], [], [189, 13, 27, 70], [368, 1, 93, 190], [32, 28, 122, 41, 27, 369], [9, 1, 191, 370, 371], [372, 373], [6, 27, 192, 374], [], [123, 375], [376, 15, 60], [193, 377, 378], [15, 1, 379], [380, 381], [13, 5, 194, 382], [383, 5, 384, 195, 385, 33], [386, 387], [], [17, 124, 388], [196, 389, 92], [22, 42, 23, 93, 390], [29, 26, 391, 392], [71, 197, 34, 5, 393], [3, 27, 394], [], [47, 395, 4, 396], [6, 1, 397, 3, 92], [30, 398, 399], [2, 125, 400], [401, 1, 198], [3, 94], [], [402, 1, 199, 3, 1, 403], [14, 404, 13, 1, 405, 406], [407, 408, 33], [409, 15, 1, 410], [3, 411, 412], [], [32, 14, 126, 54, 95, 24, 60], [96, 200, 201, 4, 413], [15, 5, 414, 3, 415, 416], [4, 417, 18, 202, 127], [], [5, 203, 3, 418], [10, 127, 13, 1, 204], [3, 419, 10, 72, 420], [421, 97, 422, 423, 33], [55, 1, 98, 14, 424], [425, 28, 426, 4, 128, 427, 428], [], [12, 22, 61, 5, 429, 430], [6, 48, 431, 188], [99, 12, 61, 29, 4, 432], [12, 42, 35, 129, 5, 433], [12, 22, 61, 43, 434, 130], [2, 435, 24, 22, 436], [7, 16, 61, 5, 131, 121, 205], [7, 16, 61, 132, 16], [], [32, 14, 126, 54, 95, 24], [8, 36, 437, 5, 438, 206], [1, 439, 36, 440, 207, 100], [8, 441, 442, 6, 443, 444], [], [17, 445, 446], [5, 447, 6, 208], [5, 448, 3, 449, 209], [450, 6, 1, 210], [12, 37, 451, 9, 5, 211], [6, 452, 453, 454], [], [38, 3, 19], [5, 455, 3, 212], [456, 2, 457], [458, 459], [15, 460, 461], [13, 5, 462, 463], [121, 213, 62, 464], [], [1, 214, 465, 9, 101], [6, 1, 466, 2, 467, 215], [468, 2, 469, 470], [35, 1, 56, 3, 120, 471], [472, 473, 2, 474], [6, 475, 476], [477, 14, 478], [6, 5, 216, 479], [], [17, 41, 133], [1, 214, 14, 480], [56, 481, 73], [6, 193, 482, 483], [], [484, 485, 44], [20, 8, 217, 4, 1, 218], [1, 486, 487, 3, 488], [489, 1, 490, 3, 11, 491], [], [10, 14, 492, 4, 38, 74], [38, 493, 60, 5, 494], [63, 47, 495, 96, 219], [496, 497, 6, 498, 3, 39], [220, 499, 4, 47, 221], [45, 222, 500, 501], [], [10, 14, 502, 4, 38, 74], [503, 6, 18, 504], [4, 5, 505, 506], [38, 3, 19, 5, 21, 507], [75, 2, 134, 223], [76, 224, 508, 509], [], [34, 135, 19], [7, 95, 71, 40, 9, 19, 4, 510], [1, 511, 10, 225, 102, 4, 136], [34, 135, 19], [7, 95, 71, 40, 9, 19, 4, 512], [1, 513, 6, 135], [514, 515, 9, 12, 2, 7, 4, 103], [], [10, 14, 516, 4, 38, 74], [137, 3, 517, 518], [138, 198, 136], [519, 226, 520, 521], [55, 522, 43, 1, 25], [71, 523, 9, 47, 4, 139], [], [10, 14, 524, 4, 38, 74], [525, 526, 527], [13, 5, 227, 228], [48, 14, 528, 55, 529, 229], [48, 10, 140, 29, 61], [30, 220, 29, 530, 132], [], [230, 104, 4, 231, 1, 531, 33], [104, 4, 532, 77, 533], [196, 534, 78, 3, 535, 199], [536, 537, 41, 1, 232], [62, 233, 538, 2, 539], [62, 233, 540], [2, 234], [541, 229, 1, 141], [542, 5, 235, 4, 48, 543, 544], [], [17, 32, 197, 28], [1, 224, 3, 19], [2, 10, 545, 139, 236, 546, 104, 105], [200, 4, 547], [71, 5, 237, 3, 19], [4, 23, 238, 79, 5, 91], [], [64, 548, 4, 18, 142, 33], [239, 46, 143, 78, 3, 549], [105, 15, 18, 550, 33], [63, 551, 5, 552], [80, 44, 81, 80, 65], [80, 82], [240, 13, 80, 204], [30, 32, 14, 553], [9, 12, 2, 49], [50, 17, 222, 65, 554], [], [7, 83, 144], [50, 1, 555, 83, 556], [105, 1, 557, 558], [46, 559, 5, 560, 3, 561, 144], [6, 5, 562, 241, 563], [38, 564, 203], [5, 565, 566], [], [5, 567, 242, 568], [4, 243, 244, 18, 245], [17, 1, 569, 570, 246], [571, 78, 11, 572], [573, 6, 11, 144], [8, 574, 575, 576, 1, 577], [], [106, 79, 106], [6, 5, 145, 247], [5, 248, 26, 249], [2, 250], [40, 107, 40], [10, 251, 252, 3, 1, 70], [18, 253, 37, 81], [11, 254], [], [255, 578], [5, 579, 580, 581], [6, 40, 2, 6, 256], [1, 257, 582, 4, 583], [], [1, 584, 2, 1, 122], [585, 2, 586], [5, 587, 21, 78, 3, 206], [], [588, 589], [9, 590, 591], [54, 127, 4, 5, 592, 593], [], [6, 11, 245, 594], [11, 21, 28, 595, 33], [63, 146, 8, 596, 258], [], [106, 79, 106], [6, 5, 145, 247], [5, 248, 26, 249], [2, 250], [40, 107, 40], [10, 251, 252, 3, 1, 70], [18, 253, 37, 81], [11, 254], [], [259, 597, 598], [599, 76, 600], [147, 601, 23, 602], [15, 5, 148, 603, 260, 604], [149, 1, 66], [150, 3, 94], [46, 16, 261, 605, 19, 226], [], [262, 20, 606, 33], [29, 20, 607, 608], [16, 42, 609, 18, 610], [149, 1, 66], [150, 3, 94], [46, 16, 261, 263, 19, 105], [], [1, 264, 611, 612, 33], [1, 613, 51], [16, 42, 614, 615], [616, 5, 21, 33], [150, 3, 94], [617, 93, 2, 151], [], [265, 107, 265], [16, 266, 15, 1, 83], [2, 618, 1, 21, 20, 46, 619], [83, 107, 83], [16, 266, 2, 620], [621, 60, 4, 143, 13], [20, 46, 622], [], [50, 8, 267, 1, 623, 3, 624], [50, 84, 625, 35, 108, 152, 626], [16, 8, 219, 3, 19, 15, 627], [9, 1, 628, 24, 10, 153, 103], [10, 268, 18, 629], [43, 1, 630, 6, 1, 631], [44, 632, 73], [13, 1, 131, 3, 633, 634], [], [109, 137, 3, 269], [102, 2, 270], [271, 82], [2, 272, 273, 44], [274, 275], [276, 6, 277, 278], [279, 73, 1, 280], [2, 281, 41, 1, 110], [], [1, 635, 14, 636], [1, 154, 637, 3, 67], [282, 638, 639], [11, 640, 13, 641], [37, 10, 85], [1, 283, 24, 129, 19, 151], [37, 10, 642], [4, 284, 643, 285, 2, 155], [], [109, 137, 3, 269], [102, 2, 270], [271, 82], [2, 272, 273, 44], [274, 275], [276, 6, 277, 278], [279, 73, 1, 280], [2, 281, 41, 1, 110], [37, 10, 644, 18, 44], [2, 156, 5, 286], [37, 10, 85, 1, 283], [4, 645, 19, 86, 4, 1, 25], [], [5, 646, 51, 43, 647], [648, 649, 4, 1, 287], [52, 87, 5, 288, 4, 650], [5, 651, 9, 111, 652, 238, 653], [], [157, 52, 53, 654], [157, 52, 87, 655], [157, 52, 53, 656], [8, 657, 77, 289], [], [658, 3, 659], [660, 3, 661], [5, 290, 291], [52, 292, 6, 1, 293], [], [44, 662, 93], [25, 663], [142, 664], [294, 51], [665, 64, 12, 22], [8, 37, 258], [64, 46, 666], [], [294, 51], [667, 13, 4, 27, 668], [669, 20, 8, 670], [8, 72, 671, 27, 672], [], [6, 1, 673, 3, 111, 39, 52, 295], [4, 210, 5, 21, 3, 158, 112], [2, 5, 217, 6, 1, 44, 3, 1, 296], [295, 77, 4, 64, 52, 159, 674], [], [52, 297, 160, 111, 675], [4, 676, 1, 296], [677, 678], [9, 47, 26, 289], [], [8, 679, 4, 298, 77], [34, 680, 240, 77], [124, 290, 291], [54, 292, 6, 1, 293], [], [2, 1, 161, 54, 681, 299, 682], [147, 23, 1, 683, 4, 286], [4, 684, 5, 300, 112], [86, 4, 1, 25], [], [1, 685, 2, 1, 686], [243, 46, 6, 11, 262], [687, 11, 688], [86, 4, 1, 25], [], [689, 2, 690], [38, 147, 139, 111, 237], [4, 691, 5, 300, 692], [86, 4, 1, 25], [], [12, 22, 23, 1, 693], [7, 16, 694, 1, 695], [696, 57, 697], [86, 4, 1, 25], [], [698], [6, 1, 699, 3, 88], [32, 700, 5, 701, 123, 113], [1, 301, 302], [3, 88, 303, 304], [], [702, 97, 3, 1, 703, 305], [6, 704, 9, 11, 705, 706], [6, 5, 306, 707, 3, 708], [307, 4, 308, 1, 709], [], [304], [123], [4, 710, 711], [712], [1, 713, 24, 140, 29, 714], [], [17, 54, 715], [4, 305, 114, 162], [14, 716, 45], [5, 309, 113], [], [68, 1, 717], [4, 23, 718], [55, 28, 32, 719, 69], [720, 58, 41, 1, 721], [55, 68, 1, 722, 723, 58], [4, 724], [], [725], [7, 310, 5, 162, 34, 726, 3, 727], [2, 728, 3, 729], [730, 57, 1, 56, 3, 731], [311, 312, 1, 732, 70], [], [13, 31, 313, 1, 733], [734, 68, 1, 735], [736, 9, 1, 25, 3, 88], [737, 57, 141], [], [1, 303, 738, 28, 114, 739, 91], [31, 313, 72, 740, 114, 152], [741, 4, 31, 742, 743], [744, 1, 301, 302, 58], [745, 746], [], [747], [748, 749], [42, 750], [76, 5, 145, 228], [751], [], [752, 2, 753], [754, 31, 25], [314, 755], [28, 315, 756], [], [4, 23, 757], [], [50, 1, 758, 103, 62, 759], [4, 231, 15, 760, 55, 761], [7, 103, 163, 3, 1, 101], [2, 1, 316, 7, 115, 762], [50, 17, 763, 28, 764], [2, 164, 63, 765, 766, 6, 148], [7, 152, 4, 267, 31, 131, 767], [4, 768, 769, 15, 12], [], [50, 60, 770, 26, 771], [2, 20, 158, 20, 165, 218], [164, 5, 772, 6, 1, 317], [6, 5, 216, 773, 3, 44], [6, 318, 4, 319, 9, 774], [6, 318, 4, 319, 9, 67], [30, 84, 65, 22, 42, 23, 149], [27, 39, 96, 775, 49, 776], [], [777, 778, 1, 154, 320, 321], [4, 115, 1, 166, 3, 167], [4, 779, 31, 780, 13, 168, 169], [2, 322, 1, 170, 3, 781], [], [7, 87, 323, 1, 782, 171], [3, 783], [1, 784, 141], [43, 138, 282, 785, 7, 786, 5, 235], [7, 787, 1, 324, 788, 789], [3, 790, 791, 792], [40, 2, 51, 75], [325, 9, 1, 116, 58, 117], [117, 58, 4, 793, 79, 1, 326, 327], [], [328, 45, 329, 330], [4, 331, 794, 1, 795, 3, 60], [1, 332, 172, 51], [4, 85, 1, 154, 320, 321], [4, 115, 1, 166, 3, 167], [796, 7, 16, 797, 13, 168, 169], [2, 322, 1, 170, 3, 333], [], [5, 798, 334, 35, 104, 2, 799], [30, 40, 96, 108, 49, 45], [97, 800, 6, 1, 335], [324, 6, 138, 801, 148], [802, 9, 1, 21, 4, 803], [163, 3, 1, 173], [804, 9, 1, 56], [336, 3, 1, 116, 58, 117], [], [117, 58, 297, 79, 1, 326, 327], [], [328, 45, 329, 330], [4, 331, 31, 805, 806], [20, 5, 337, 172, 51], [307, 338, 7, 807], [808, 84, 166, 3, 167], [9, 7, 35, 809, 13, 168, 169], [2, 810, 1, 170, 3, 333], [], [5, 811, 75, 2, 26, 213, 43, 812], [125, 813, 43, 31, 814], [7, 174, 1, 815, 3, 816, 817], [13, 818, 819], [], [225, 6, 234], [7, 174, 26, 116, 2, 820], [142, 821, 49, 822], [4, 143, 160, 207, 112], [], [17, 1, 66], [10, 823, 18, 824], [825, 41, 45, 40], [826, 45, 827], [339, 828, 340], [339, 829, 830, 831, 832], [1, 69, 24, 65, 340], [1, 69, 8, 833, 1, 66], [], [341, 834, 835, 48, 342], [3, 1, 175, 21, 24, 10, 81], [65, 24, 7, 133, 836, 3], [35, 837, 112], [], [84, 838, 24, 42, 839, 49], [42, 840, 1, 66, 176, 49], [34, 47, 69, 230, 325, 9], [1, 21, 24, 841, 4, 23], [], [7, 842], [50, 18, 163, 21, 53, 843], [1, 343, 3, 1, 844, 845, 846], [1, 98, 3, 39, 2, 344], [847, 75, 4, 848, 1, 209, 3, 51], [], [8, 849, 68, 1, 850], [30, 42, 851, 113, 140, 852], [1, 118, 36, 177], [314, 853, 5, 854], [], [255, 345, 178, 3, 346], [119, 59, 67, 2, 342], [7, 59, 855, 2, 346, 856], [857, 858, 195, 859], [10, 22, 179, 5, 21, 3, 146], [7, 22, 156, 12, 17, 860], [], [119, 16, 85, 12, 347, 2, 861], [136, 12, 862, 4, 863, 12, 864], [68, 1, 125, 165, 316], [12, 22, 865, 6, 308, 2, 866], [6, 1, 21, 24, 12, 867], [], [1, 118, 36, 868], [869, 870, 4, 871, 11, 872], [8, 873, 4, 179, 11, 109], [2, 874, 875, 1, 110], [], [30, 47, 120, 1, 876, 180, 181], [134, 8, 348, 29, 64, 53, 155], [1, 877, 4, 179, 84, 878, 65], [879, 29, 4, 23, 26, 151], [], [1, 110, 161, 36, 880], [2, 1, 881, 3, 882, 53, 883], [6, 884, 3, 182], [4, 85, 78, 64, 8, 87, 885], [], [259, 182, 178, 3, 39], [119, 59, 39, 4, 128, 12, 886], [6, 1, 317, 3, 1, 173], [6, 1, 887, 888, 56], [12, 288, 175, 889, 27, 349], [175, 39, 22, 890, 12, 891], [], [119, 59, 892, 7, 59, 92], [7, 59, 893, 2, 7, 59, 894], [7, 16, 895, 27, 896, 130], [897, 189, 126, 208, 3, 344], [2, 27, 336, 898], [], [1, 109, 36, 899], [2, 1, 900, 901, 91], [8, 902, 2, 241, 20, 350], [8, 348, 39, 159, 29, 23, 155], [], [347, 2, 903, 8, 87, 904], [2, 8, 905, 906, 1, 97], [1, 118, 36, 907], [2, 1, 98, 908, 43, 909], [], [30, 1, 165, 180, 244, 100], [2, 46, 910, 100, 911], [912, 913, 2, 158, 914], [2, 1, 82, 3, 161, 915], [], [916, 917, 1, 101, 3, 25, 2, 183], [1, 257, 177], [20, 1, 25, 2, 183, 918], [15, 1, 118, 201, 919], [9, 26, 920, 227, 334], [6, 5, 921, 3, 922, 2, 130], [11, 21, 53, 315, 923, 57, 924, 184], [], [48, 351, 925, 48, 351, 38, 74], [264, 34, 926, 47, 221], [116, 2, 202, 76, 11, 350], [9, 11, 82, 36, 26, 927], [2, 1, 67, 159, 29, 928], [11, 929, 36, 177, 57, 930, 184], [], [48, 54, 239, 29, 298], [931, 171, 3, 176, 4, 56], [31, 932, 311, 45, 173], [13, 114, 306, 933], [], [4, 1, 25, 3, 934, 309, 113], [10, 310, 18, 162], [935, 68, 24, 194, 256], [4, 124, 172, 211], [], [936, 88, 178, 3, 352], [7, 35, 937, 2, 212], [30, 7, 35, 63, 938, 55, 939], [20, 5, 940, 191], [7, 941, 942, 2, 134, 943], [], [7, 35, 108, 57, 353], [20, 53, 944, 6, 171, 3, 176], [4, 1, 287, 3, 945], [946, 947, 2, 948, 949], [], [7, 81, 1, 98, 6, 101, 950, 13, 299], [951, 312, 1, 335], [7, 72, 952, 7, 72, 953], [7, 284, 5, 181, 354, 187, 954], [], [355, 17, 41, 133, 1, 955, 956], [5, 957, 180, 5, 958, 959], [1, 960, 174, 31, 181, 961], [2, 962, 11, 343, 963], [], [345, 53, 964], [182, 965, 49, 337], [30, 8, 323, 31, 966, 967], [2, 8, 968, 2, 36, 969], [], [970, 73, 43, 353], [13, 5, 21, 3, 971, 2, 102], [260, 972, 973, 57], [974, 184], [], [8, 975, 5, 976, 6, 215], [355, 8, 268, 41, 332, 4, 49], [977, 16, 232, 12, 88], [1, 978, 3, 352, 12, 338, 979], [], [980, 1, 356, 5, 242, 3, 981], [10, 22, 115, 18, 190, 223], [99, 18, 982, 14, 17, 1, 66], [10, 22, 983, 75, 2, 132], [99, 10, 984, 5, 80, 985], [], [153, 1, 67, 3, 39, 23, 986], [153, 1, 39, 3, 67, 987, 205], [988], [989, 15, 990, 2, 991], [15, 1, 25, 2, 183, 992], [6, 5, 993, 994, 356], [], [32, 28, 995, 6, 1, 357], [32, 28, 185, 15, 1, 358], [9, 1, 89, 996, 69, 997], [2, 1, 90, 998, 11, 999], [], [1, 185, 15, 1, 89], [2, 186, 1000, 1001, 186, 285], [8, 1002, 1, 90, 14, 34, 62, 1003], [2, 8, 1004, 160, 17, 1, 56], [30, 1, 90, 37, 263, 11, 349], [99, 8, 76, 1, 70, 186, 129], [2, 8, 146, 236, 1, 89], [37, 23, 192, 6, 11, 1005], [], [32, 28, 185, 6, 1, 357], [2, 1, 246, 17, 35, 1006], [20, 1, 89, 354, 1007, 1008], [2, 1, 90, 34, 1009, 11, 1010], [], [26, 1, 89, 1011, 5, 1012], [2, 1013, 359, 1014], [1015, 90, 14, 34, 62, 1016], [10, 16, 156, 100, 128, 19, 1017], [341, 164, 63, 69, 1018, 1019], [9, 8, 108, 5, 1020, 1021], [2, 1, 358, 14, 17, 1022, 359], [45, 1023], [1024], [2, 1025]]\n",
            "[[ 187    1  120 ...    0    0    0]\n",
            " [  15    5  360 ...    0    0    0]\n",
            " [   5  361  362 ...    0    0    0]\n",
            " ...\n",
            " [  45 1023    0 ...    0    0    0]\n",
            " [1024    0    0 ...    0    0    0]\n",
            " [   2 1025    0 ...    0    0    0]]\n",
            "1026\n"
          ]
        }
      ]
    },
    {
      "cell_type": "code",
      "source": [
        "\n",
        "input_sequences = []\n",
        "# Adds verses from file into list\n",
        "\n",
        "\n",
        "\n",
        "\n",
        "for line in verses:\n",
        "  token_list = tokenizer.texts_to_sequences([line])[0]\n",
        "  for i in range(1, len(token_list)):\n",
        "    n_gram_sequence = token_list[:i+1]\n",
        "    input_sequences.append(n_gram_sequence)\n",
        "\n",
        "print(verses[0])"
      ],
      "metadata": {
        "colab": {
          "base_uri": "https://localhost:8080/"
        },
        "id": "nDbbwhZgeB7o",
        "outputId": "a1a38db0-5d09-41ff-bec1-85c51cf796c3"
      },
      "execution_count": 3,
      "outputs": [
        {
          "output_type": "stream",
          "name": "stdout",
          "text": [
            "Begin the day\n",
            "\n"
          ]
        }
      ]
    },
    {
      "cell_type": "code",
      "source": [
        "# pad sequences \n",
        "max_sequence_len = max([len(x) for x in input_sequences])\n",
        "input_sequences = np.array(pad_sequences(input_sequences, maxlen=max_sequence_len, padding='pre'))\n",
        "\n",
        "\n",
        "\n",
        "xs = input_sequences[:,:-1]\n",
        "labels = input_sequences[:,-1]\n",
        "ys = tf.keras.utils.to_categorical(labels, num_classes=total_words)"
      ],
      "metadata": {
        "id": "1eAWN1tWTBRi"
      },
      "execution_count": 4,
      "outputs": []
    },
    {
      "cell_type": "code",
      "metadata": {
        "id": "w9vH8Y59ajYL",
        "colab": {
          "base_uri": "https://localhost:8080/"
        },
        "outputId": "44fab4a8-310b-41a9-d2a5-57d467b8a330"
      },
      "source": [
        "model = Sequential()\n",
        "model.add(Embedding(total_words, 100, input_length=max_sequence_len-1))\n",
        "model.add(Bidirectional(LSTM(150)))\n",
        "model.add(Dense(total_words, activation='softmax'))\n",
        "adam = Adam(lr=0.01)\n",
        "model.compile(loss='categorical_crossentropy', optimizer=adam, metrics=['accuracy'])\n",
        "#earlystop = EarlyStopping(monitor='val_loss', min_delta=0, patience=5, verbose=0, mode='auto')\n",
        "history = model.fit(xs, ys, epochs=100, verbose=1)\n",
        "#print model.summary()\n",
        "print(model)"
      ],
      "execution_count": 5,
      "outputs": [
        {
          "output_type": "stream",
          "name": "stdout",
          "text": [
            "Epoch 1/100\n"
          ]
        },
        {
          "output_type": "stream",
          "name": "stderr",
          "text": [
            "/usr/local/lib/python3.7/dist-packages/keras/optimizer_v2/adam.py:105: UserWarning: The `lr` argument is deprecated, use `learning_rate` instead.\n",
            "  super(Adam, self).__init__(name, **kwargs)\n"
          ]
        },
        {
          "output_type": "stream",
          "name": "stdout",
          "text": [
            "68/68 [==============================] - 9s 28ms/step - loss: 6.5500 - accuracy: 0.0675\n",
            "Epoch 2/100\n",
            "68/68 [==============================] - 2s 28ms/step - loss: 5.7984 - accuracy: 0.0829\n",
            "Epoch 3/100\n",
            "68/68 [==============================] - 2s 29ms/step - loss: 5.0904 - accuracy: 0.1145\n",
            "Epoch 4/100\n",
            "68/68 [==============================] - 2s 29ms/step - loss: 4.1737 - accuracy: 0.1820\n",
            "Epoch 5/100\n",
            "68/68 [==============================] - 2s 28ms/step - loss: 3.0825 - accuracy: 0.3277\n",
            "Epoch 6/100\n",
            "68/68 [==============================] - 2s 29ms/step - loss: 2.1677 - accuracy: 0.4856\n",
            "Epoch 7/100\n",
            "68/68 [==============================] - 4s 53ms/step - loss: 1.5224 - accuracy: 0.6257\n",
            "Epoch 8/100\n",
            "68/68 [==============================] - 2s 31ms/step - loss: 1.1359 - accuracy: 0.7309\n",
            "Epoch 9/100\n",
            "68/68 [==============================] - 2s 29ms/step - loss: 0.9267 - accuracy: 0.7668\n",
            "Epoch 10/100\n",
            "68/68 [==============================] - 2s 29ms/step - loss: 0.7990 - accuracy: 0.7928\n",
            "Epoch 11/100\n",
            "68/68 [==============================] - 2s 29ms/step - loss: 0.7491 - accuracy: 0.7928\n",
            "Epoch 12/100\n",
            "68/68 [==============================] - 2s 28ms/step - loss: 0.7022 - accuracy: 0.7989\n",
            "Epoch 13/100\n",
            "68/68 [==============================] - 2s 28ms/step - loss: 0.6809 - accuracy: 0.7966\n",
            "Epoch 14/100\n",
            "68/68 [==============================] - 2s 28ms/step - loss: 0.6482 - accuracy: 0.8012\n",
            "Epoch 15/100\n",
            "68/68 [==============================] - 2s 28ms/step - loss: 0.6396 - accuracy: 0.8035\n",
            "Epoch 16/100\n",
            "68/68 [==============================] - 2s 29ms/step - loss: 0.6447 - accuracy: 0.7975\n",
            "Epoch 17/100\n",
            "68/68 [==============================] - 2s 28ms/step - loss: 0.6533 - accuracy: 0.7993\n",
            "Epoch 18/100\n",
            "68/68 [==============================] - 2s 29ms/step - loss: 0.6309 - accuracy: 0.7975\n",
            "Epoch 19/100\n",
            "68/68 [==============================] - 2s 29ms/step - loss: 0.6215 - accuracy: 0.7984\n",
            "Epoch 20/100\n",
            "68/68 [==============================] - 2s 29ms/step - loss: 0.6130 - accuracy: 0.8063\n",
            "Epoch 21/100\n",
            "68/68 [==============================] - 2s 29ms/step - loss: 0.5978 - accuracy: 0.8045\n",
            "Epoch 22/100\n",
            "68/68 [==============================] - 2s 29ms/step - loss: 0.5896 - accuracy: 0.8049\n",
            "Epoch 23/100\n",
            "68/68 [==============================] - 2s 29ms/step - loss: 0.5993 - accuracy: 0.7975\n",
            "Epoch 24/100\n",
            "68/68 [==============================] - 2s 29ms/step - loss: 0.5883 - accuracy: 0.8049\n",
            "Epoch 25/100\n",
            "68/68 [==============================] - 2s 29ms/step - loss: 0.5951 - accuracy: 0.8007\n",
            "Epoch 26/100\n",
            "68/68 [==============================] - 2s 29ms/step - loss: 0.6012 - accuracy: 0.7984\n",
            "Epoch 27/100\n",
            "68/68 [==============================] - 2s 29ms/step - loss: 0.5987 - accuracy: 0.8012\n",
            "Epoch 28/100\n",
            "68/68 [==============================] - 2s 29ms/step - loss: 0.6078 - accuracy: 0.7980\n",
            "Epoch 29/100\n",
            "68/68 [==============================] - 2s 29ms/step - loss: 0.6158 - accuracy: 0.7998\n",
            "Epoch 30/100\n",
            "68/68 [==============================] - 2s 29ms/step - loss: 0.6087 - accuracy: 0.8045\n",
            "Epoch 31/100\n",
            "68/68 [==============================] - 2s 29ms/step - loss: 0.6148 - accuracy: 0.8054\n",
            "Epoch 32/100\n",
            "68/68 [==============================] - 2s 31ms/step - loss: 0.6267 - accuracy: 0.7928\n",
            "Epoch 33/100\n",
            "68/68 [==============================] - 2s 30ms/step - loss: 0.7446 - accuracy: 0.7733\n",
            "Epoch 34/100\n",
            "68/68 [==============================] - 2s 30ms/step - loss: 1.1994 - accuracy: 0.6541\n",
            "Epoch 35/100\n",
            "68/68 [==============================] - 2s 29ms/step - loss: 1.4164 - accuracy: 0.6094\n",
            "Epoch 36/100\n",
            "68/68 [==============================] - 2s 29ms/step - loss: 1.0167 - accuracy: 0.7109\n",
            "Epoch 37/100\n",
            "68/68 [==============================] - 2s 29ms/step - loss: 0.7895 - accuracy: 0.7677\n",
            "Epoch 38/100\n",
            "68/68 [==============================] - 2s 29ms/step - loss: 0.6584 - accuracy: 0.7905\n",
            "Epoch 39/100\n",
            "68/68 [==============================] - 2s 29ms/step - loss: 0.6082 - accuracy: 0.8031\n",
            "Epoch 40/100\n",
            "68/68 [==============================] - 2s 28ms/step - loss: 0.5866 - accuracy: 0.8007\n",
            "Epoch 41/100\n",
            "68/68 [==============================] - 2s 28ms/step - loss: 0.5736 - accuracy: 0.8035\n",
            "Epoch 42/100\n",
            "68/68 [==============================] - 2s 28ms/step - loss: 0.5723 - accuracy: 0.8035\n",
            "Epoch 43/100\n",
            "68/68 [==============================] - 2s 28ms/step - loss: 0.5696 - accuracy: 0.8087\n",
            "Epoch 44/100\n",
            "68/68 [==============================] - 2s 29ms/step - loss: 0.5746 - accuracy: 0.8003\n",
            "Epoch 45/100\n",
            "68/68 [==============================] - 2s 29ms/step - loss: 0.5625 - accuracy: 0.8040\n",
            "Epoch 46/100\n",
            "68/68 [==============================] - 2s 29ms/step - loss: 0.5768 - accuracy: 0.7993\n",
            "Epoch 47/100\n",
            "68/68 [==============================] - 2s 29ms/step - loss: 0.5601 - accuracy: 0.8068\n",
            "Epoch 48/100\n",
            "68/68 [==============================] - 2s 29ms/step - loss: 0.5525 - accuracy: 0.8035\n",
            "Epoch 49/100\n",
            "68/68 [==============================] - 3s 40ms/step - loss: 0.5622 - accuracy: 0.8059\n",
            "Epoch 50/100\n",
            "68/68 [==============================] - 2s 29ms/step - loss: 0.5522 - accuracy: 0.8031\n",
            "Epoch 51/100\n",
            "68/68 [==============================] - 2s 28ms/step - loss: 0.5527 - accuracy: 0.7970\n",
            "Epoch 52/100\n",
            "68/68 [==============================] - 2s 29ms/step - loss: 0.5637 - accuracy: 0.8012\n",
            "Epoch 53/100\n",
            "68/68 [==============================] - 2s 29ms/step - loss: 0.5545 - accuracy: 0.8059\n",
            "Epoch 54/100\n",
            "68/68 [==============================] - 2s 30ms/step - loss: 0.5528 - accuracy: 0.8031\n",
            "Epoch 55/100\n",
            "68/68 [==============================] - 3s 38ms/step - loss: 0.5422 - accuracy: 0.8077\n",
            "Epoch 56/100\n",
            "68/68 [==============================] - 3s 48ms/step - loss: 0.5521 - accuracy: 0.8082\n",
            "Epoch 57/100\n",
            "68/68 [==============================] - 2s 29ms/step - loss: 0.5464 - accuracy: 0.8031\n",
            "Epoch 58/100\n",
            "68/68 [==============================] - 2s 29ms/step - loss: 0.5462 - accuracy: 0.8045\n",
            "Epoch 59/100\n",
            "68/68 [==============================] - 2s 29ms/step - loss: 0.5378 - accuracy: 0.8077\n",
            "Epoch 60/100\n",
            "68/68 [==============================] - 2s 30ms/step - loss: 0.5387 - accuracy: 0.8007\n",
            "Epoch 61/100\n",
            "68/68 [==============================] - 2s 30ms/step - loss: 0.5380 - accuracy: 0.8035\n",
            "Epoch 62/100\n",
            "68/68 [==============================] - 2s 30ms/step - loss: 0.5335 - accuracy: 0.8087\n",
            "Epoch 63/100\n",
            "68/68 [==============================] - 2s 30ms/step - loss: 0.5396 - accuracy: 0.8059\n",
            "Epoch 64/100\n",
            "68/68 [==============================] - 2s 30ms/step - loss: 0.5358 - accuracy: 0.8059\n",
            "Epoch 65/100\n",
            "68/68 [==============================] - 2s 30ms/step - loss: 0.5435 - accuracy: 0.8031\n",
            "Epoch 66/100\n",
            "68/68 [==============================] - 2s 30ms/step - loss: 0.5316 - accuracy: 0.8068\n",
            "Epoch 67/100\n",
            "68/68 [==============================] - 2s 30ms/step - loss: 0.5318 - accuracy: 0.8073\n",
            "Epoch 68/100\n",
            "68/68 [==============================] - 2s 31ms/step - loss: 0.5339 - accuracy: 0.8073\n",
            "Epoch 69/100\n",
            "68/68 [==============================] - 2s 30ms/step - loss: 0.5363 - accuracy: 0.8040\n",
            "Epoch 70/100\n",
            "68/68 [==============================] - 2s 30ms/step - loss: 0.5317 - accuracy: 0.8105\n",
            "Epoch 71/100\n",
            "68/68 [==============================] - 2s 30ms/step - loss: 0.5342 - accuracy: 0.8096\n",
            "Epoch 72/100\n",
            "68/68 [==============================] - 2s 29ms/step - loss: 0.5300 - accuracy: 0.8082\n",
            "Epoch 73/100\n",
            "68/68 [==============================] - 2s 30ms/step - loss: 0.5358 - accuracy: 0.8021\n",
            "Epoch 74/100\n",
            "68/68 [==============================] - 2s 29ms/step - loss: 0.5297 - accuracy: 0.8073\n",
            "Epoch 75/100\n",
            "68/68 [==============================] - 2s 29ms/step - loss: 0.5279 - accuracy: 0.8063\n",
            "Epoch 76/100\n",
            "68/68 [==============================] - 2s 28ms/step - loss: 0.5348 - accuracy: 0.8045\n",
            "Epoch 77/100\n",
            "68/68 [==============================] - 2s 29ms/step - loss: 0.5347 - accuracy: 0.8049\n",
            "Epoch 78/100\n",
            "68/68 [==============================] - 2s 29ms/step - loss: 0.5338 - accuracy: 0.8045\n",
            "Epoch 79/100\n",
            "68/68 [==============================] - 2s 29ms/step - loss: 0.5449 - accuracy: 0.8045\n",
            "Epoch 80/100\n",
            "68/68 [==============================] - 2s 29ms/step - loss: 0.5331 - accuracy: 0.8096\n",
            "Epoch 81/100\n",
            "68/68 [==============================] - 2s 28ms/step - loss: 0.5361 - accuracy: 0.8128\n",
            "Epoch 82/100\n",
            "68/68 [==============================] - 2s 28ms/step - loss: 0.5420 - accuracy: 0.8040\n",
            "Epoch 83/100\n",
            "68/68 [==============================] - 2s 29ms/step - loss: 0.5353 - accuracy: 0.8054\n",
            "Epoch 84/100\n",
            "68/68 [==============================] - 2s 29ms/step - loss: 0.5386 - accuracy: 0.8082\n",
            "Epoch 85/100\n",
            "68/68 [==============================] - 2s 29ms/step - loss: 0.5294 - accuracy: 0.8068\n",
            "Epoch 86/100\n",
            "68/68 [==============================] - 2s 29ms/step - loss: 0.5310 - accuracy: 0.8063\n",
            "Epoch 87/100\n",
            "68/68 [==============================] - 2s 29ms/step - loss: 0.5272 - accuracy: 0.8035\n",
            "Epoch 88/100\n",
            "68/68 [==============================] - 2s 29ms/step - loss: 0.5264 - accuracy: 0.8096\n",
            "Epoch 89/100\n",
            "68/68 [==============================] - 2s 29ms/step - loss: 0.5277 - accuracy: 0.8017\n",
            "Epoch 90/100\n",
            "68/68 [==============================] - 2s 29ms/step - loss: 0.5404 - accuracy: 0.8035\n",
            "Epoch 91/100\n",
            "68/68 [==============================] - 2s 29ms/step - loss: 0.5330 - accuracy: 0.7998\n",
            "Epoch 92/100\n",
            "68/68 [==============================] - 2s 29ms/step - loss: 0.5318 - accuracy: 0.8087\n",
            "Epoch 93/100\n",
            "68/68 [==============================] - 2s 29ms/step - loss: 0.5321 - accuracy: 0.8054\n",
            "Epoch 94/100\n",
            "68/68 [==============================] - 2s 29ms/step - loss: 0.6000 - accuracy: 0.7928\n",
            "Epoch 95/100\n",
            "68/68 [==============================] - 2s 29ms/step - loss: 1.7397 - accuracy: 0.5540\n",
            "Epoch 96/100\n",
            "68/68 [==============================] - 2s 29ms/step - loss: 2.0510 - accuracy: 0.5047\n",
            "Epoch 97/100\n",
            "68/68 [==============================] - 2s 29ms/step - loss: 1.1220 - accuracy: 0.6909\n",
            "Epoch 98/100\n",
            "68/68 [==============================] - 2s 29ms/step - loss: 0.7624 - accuracy: 0.7742\n",
            "Epoch 99/100\n",
            "68/68 [==============================] - 2s 29ms/step - loss: 0.6527 - accuracy: 0.7966\n",
            "Epoch 100/100\n",
            "68/68 [==============================] - 2s 29ms/step - loss: 0.5973 - accuracy: 0.8087\n",
            "<keras.engine.sequential.Sequential object at 0x7f902dd53890>\n"
          ]
        }
      ]
    },
    {
      "cell_type": "code",
      "metadata": {
        "id": "3YXGelKThoTT"
      },
      "source": [
        "import matplotlib.pyplot as plt\n",
        "\n",
        "\n",
        "def plot_graphs(history, string):\n",
        "  plt.plot(history.history[string])\n",
        "  plt.xlabel(\"Epochs\")\n",
        "  plt.ylabel(string)\n",
        "  plt.show()"
      ],
      "execution_count": 6,
      "outputs": []
    },
    {
      "cell_type": "code",
      "source": [
        "plot_graphs(history, 'accuracy')"
      ],
      "metadata": {
        "id": "I9D-tyG9wFEN",
        "colab": {
          "base_uri": "https://localhost:8080/",
          "height": 279
        },
        "outputId": "3fdae75b-9633-4ced-8c23-3aa5f4f0c85f"
      },
      "execution_count": 7,
      "outputs": [
        {
          "output_type": "display_data",
          "data": {
            "text/plain": [
              "<Figure size 432x288 with 1 Axes>"
            ],
            "image/png": "[encoded data removed]"
          },
          "metadata": {
            "needs_background": "light"
          }
        }
      ]
    },
    {
      "cell_type": "code",
      "source": [
        "#seed_text = \"I've got a bad feeling about this\"\n",
        "seed_text = \"In the constellation of Orion\"\n",
        "next_words = 100\n",
        "  \n",
        "for _ in range(next_words):\n",
        "\ttoken_list = tokenizer.texts_to_sequences([seed_text])[0]\n",
        "\ttoken_list = pad_sequences([token_list], maxlen=max_sequence_len-1, padding='pre')\n",
        "\tpredicted = np.argmax(model.predict(token_list), axis=-1)\n",
        "\toutput_word = \"\"\n",
        "\tfor word, index in tokenizer.word_index.items():\n",
        "\t\tif index == predicted:\n",
        "\t\t\toutput_word = word\n",
        "\t\t\tbreak\n",
        "\tseed_text += \" \" + output_word\n",
        "\tif (seed_text == \"newline\"):\n",
        "\t\tseed_text = \"\\n\"\n",
        "print(seed_text)"
      ],
      "metadata": {
        "id": "diO81tn-k6op",
        "colab": {
          "base_uri": "https://localhost:8080/"
        },
        "outputId": "8c842c83-f75c-4828-efa1-8c2480c10f61"
      },
      "execution_count": 10,
      "outputs": [
        {
          "output_type": "stream",
          "name": "stdout",
          "text": [
            "In the constellation of Orion cygnus fearsome force clear high come along with high lyra high unknown me mood comfort why the sphere a clue me clue me proof kind too mighty mighty – life to clue me river wealth retreats reality had need to chance further gone wrong do goal the only world they’re silent silent mood think that life – do wrong had space lost… sadness view old into the way world xanadu wisdom come to high law land slay the reason clue – motivation me reality mighty threads another mighty life me love was way retreats free do art hungry hungry united\n"
          ]
        }
      ]
    }
  ]
}