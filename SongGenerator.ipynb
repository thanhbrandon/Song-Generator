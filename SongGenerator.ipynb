{
  "nbformat": 4,
  "nbformat_minor": 0,
  "metadata": {
    "colab": {
      "name": "SongGenerator.ipynb",
      "provenance": [],
      "mount_file_id": "1XCRAa39B_wxjsgMQ3jlFZz3_PeiSFRUQ",
      "authorship_tag": "ABX9TyMpDuouFdHjUGgwlUdrUHi1",
      "include_colab_link": true
    },
    "kernelspec": {
      "name": "python3",
      "display_name": "Python 3"
    },
    "language_info": {
      "name": "python"
    }
  },
  "cells": [
    {
      "cell_type": "markdown",
      "metadata": {
        "id": "view-in-github",
        "colab_type": "text"
      },
      "source": [
        "<a href=\"https://colab.research.google.com/github/thanhbrandon/Song-Generator/blob/main/SongGenerator.ipynb\" target=\"_parent\"><img src=\"https://colab.research.google.com/assets/colab-badge.svg\" alt=\"Open In Colab\"/></a>"
      ]
    },
    {
      "cell_type": "markdown",
      "source": [
        "Rush Song Generator\n",
        "by Thanh Tran\n",
        "\n",
        "Hello, this purpose of this program is generate Rush Songs using previous Rush Songs."
      ],
      "metadata": {
        "id": "vOytcd7sdbTg"
      }
    },
    {
      "cell_type": "code",
      "execution_count": 3,
      "metadata": {
        "id": "q9akRYQhdYNQ"
      },
      "outputs": [],
      "source": [
        "import tensorflow as tf\n",
        "from tensorflow import keras\n",
        "from tensorflow.keras.preprocessing.text import Tokenizer"
      ]
    },
    {
      "cell_type": "code",
      "source": [
        "verses = [] # Create Verses String List\n",
        "\n",
        "# Adds verses from file into list\n",
        "with open('/content/drive/MyDrive/Rush Album Lyrics/Permanent Waves/Freewill.txt',encoding='cp1252') as f:\n",
        "    for line in f:\n",
        "      verses.append(line)\n"
      ],
      "metadata": {
        "colab": {
          "base_uri": "https://localhost:8080/"
        },
        "id": "nDbbwhZgeB7o",
        "outputId": "cea82155-d578-4417-9b0c-1f77caba817b"
      },
      "execution_count": 10,
      "outputs": [
        {
          "output_type": "stream",
          "name": "stdout",
          "text": [
            "There are those who think that life\n",
            "\n"
          ]
        }
      ]
    },
    {
      "cell_type": "code",
      "source": [
        "tokenizer = Tokenizer(num_words = 100)\n",
        "tokenizer.fit_on_texts(verses)\n",
        "word_index = tokenizer.word_index\n",
        "print(word_index)\n"
      ],
      "metadata": {
        "colab": {
          "base_uri": "https://localhost:8080/"
        },
        "id": "qoPaFBXhhQ8u",
        "outputId": "1559d66c-e69d-4b35-cdeb-bd2714d3051f"
      },
      "execution_count": 11,
      "outputs": [
        {
          "output_type": "stream",
          "name": "stdout",
          "text": [
            "{'a': 1, 'of': 2, 'you': 3, 'choose': 4, 'in': 5, 'to': 6, 'the': 7, 'are': 8, 'that': 9, 'can': 10, 'will': 11, 'there': 12, 'those': 13, 'who': 14, 'think': 15, 'with': 16, 'dance': 17, 'we': 18, 'on': 19, 'and': 20, 'i': 21, 'that’s': 22, 'they': 23, 'were': 24, 'life': 25, 'has': 26, 'nothing': 27, 'left': 28, 'chance': 29, 'host': 30, 'holy': 31, 'horrors': 32, 'direct': 33, 'our': 34, 'aimless': 35, 'planet': 36, 'playthings': 37, 'strings': 38, 'powers': 39, 'cannot': 40, 'perceive': 41, '“the': 42, 'stars': 43, 'aren’t': 44, 'aligned': 45, '–': 46, 'or': 47, 'gods': 48, 'malign”': 49, 'blame': 50, 'is': 51, 'better': 52, 'give': 53, 'than': 54, 'receive': 55, 'ready': 56, 'guide': 57, 'some': 58, 'celestial': 59, 'voice': 60, 'if': 61, 'not': 62, 'decide': 63, 'still': 64, 'have': 65, 'made': 66, 'choice': 67, 'from': 68, 'phantom': 69, 'fears': 70, 'kindness': 71, 'kill': 72, 'path': 73, 'clear': 74, 'free': 75, 'dealt': 76, 'losing': 77, 'hand': 78, 'cards': 79, 'stacked': 80, 'against': 81, 'them': 82, 'weren’t': 83, 'born': 84, 'lotus': 85, 'land': 86, 'all': 87, 'pre': 88, 'ordained': 89, 'prisoner': 90, 'chains': 91, 'victim': 92, 'venomous': 93, 'fate': 94, 'kicked': 95, 'face': 96, 'can’t': 97, 'pray': 98, 'for': 99, 'place': 100, 'heaven’s': 101, 'unearthly': 102, 'estate': 103, 'each': 104, 'us': 105, 'cell': 106, 'awareness': 107, 'imperfect': 108, 'incomplete': 109, 'genetic': 110, 'blends': 111, 'uncertain': 112, 'ends': 113, 'fortune': 114, 'hunt': 115, 'far': 116, 'too': 117, 'fleet…': 118}\n"
          ]
        }
      ]
    }
  ]
}